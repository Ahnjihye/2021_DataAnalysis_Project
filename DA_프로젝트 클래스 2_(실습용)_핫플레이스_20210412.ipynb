{
 "cells": [
  {
   "cell_type": "markdown",
   "metadata": {
    "id": "AJJmdk2i7Fb-"
   },
   "source": [
    "<img src='https://github.com/Ahnjihye/allinone_AI/blob/images/87_%EB%A1%9C%EB%93%9C%EB%A7%B5.png?raw=true' width=700>"
   ]
  },
  {
   "cell_type": "markdown",
   "metadata": {
    "id": "FzBW2NLn7J5t"
   },
   "source": [
    "# 1. 프로젝트 목표 수립\n"
   ]
  },
  {
   "cell_type": "markdown",
   "metadata": {
    "id": "qNIT40Qr80c1"
   },
   "source": [
    "**핫플레이스, 언제 가야 가장 덜 붐빌까?**\n",
    "\n",
    "그런데, 데이터가 있나?"
   ]
  },
  {
   "cell_type": "markdown",
   "metadata": {
    "id": "uKteuac_-whw"
   },
   "source": [
    "### 1) 데이터 선정\n",
    "\n",
    "데이터 : 구글에서 데이터를 찾아보자!\n",
    "\n",
    "구글에 '서울 시간대별 인구 데이터' 검색\n",
    "\n",
    "> 인구 데이터 : 서울 생활인구(내국인) 201912\n",
    "<br/>\n",
    ">  행정동코드 데이터 : 행정구역 코드 정보"
   ]
  },
  {
   "cell_type": "markdown",
   "metadata": {
    "id": "9Tuar_6tUQK5"
   },
   "source": [
    "<img src='https://github.com/Ahnjihye/allinone_AI/blob/images/99_%EB%8D%B0%EC%9D%B4%ED%84%B0%ED%97%A4%EB%8D%94.png?raw=true' width=800>"
   ]
  },
  {
   "cell_type": "markdown",
   "metadata": {
    "id": "cIbzo9JiFLdb"
   },
   "source": [
    "### 2) 목표 수립하기"
   ]
  },
  {
   "cell_type": "markdown",
   "metadata": {
    "id": "UDpGnB7q84Pa"
   },
   "source": [
    "하위 목표 1 : 핫플레이스가 있는 행정동의 시간대별 평균인구 그래프 그려 분석하기\n",
    "\n",
    "<img src='https://github.com/Ahnjihye/allinone_AI/blob/images/93_%ED%95%AB%ED%94%8C_%ED%95%98%EC%9C%84%EB%AA%A9%ED%91%9C1.png?raw=true' width=300>"
   ]
  },
  {
   "cell_type": "markdown",
   "metadata": {
    "id": "oGaVvTH59CNE"
   },
   "source": [
    "하위 목표 2 : 핫플레이스가 있는 행정동의 주중/주말 시간대별 평균인구 그래프 그리고 분석하기\n",
    "\n",
    "<img src='https://github.com/Ahnjihye/allinone_AI/blob/images/94_%ED%95%AB%ED%94%8C_%ED%95%98%EC%9C%84%EB%AA%A9%ED%91%9C2.png?raw=true' width=300>"
   ]
  },
  {
   "cell_type": "markdown",
   "metadata": {
    "id": "HJq4l9v99CPY"
   },
   "source": [
    "하위 목표 3 : 핫플레이스가 있는 행정동의 남/녀 시간대별 평균인구 그래프를 그려 분석하기\n",
    "\n",
    "<img src='https://github.com/Ahnjihye/allinone_AI/blob/images/95_%ED%95%AB%ED%94%8C_%ED%95%98%EC%9C%84%EB%AA%A9%ED%91%9C3.png?raw=true' width=300>"
   ]
  },
  {
   "cell_type": "markdown",
   "metadata": {
    "id": "wPQbcCw0LdQg"
   },
   "source": [
    "하위 목표 4 : 핫플레이스가 있는 행정동과 익숙한 행정동의 시간대별 평균인구 그래프 그려서 비교 분석하기\n",
    "\n",
    "<img src='https://github.com/Ahnjihye/allinone_AI/blob/images/96_%ED%95%AB%ED%94%8C_%ED%95%98%EC%9C%84%EB%AA%A9%ED%91%9C4.png?raw=true' width=300>"
   ]
  },
  {
   "cell_type": "markdown",
   "metadata": {
    "id": "8tv7s4JY-5ff"
   },
   "source": [
    "# 2. 프로그램 구현 \n"
   ]
  },
  {
   "cell_type": "markdown",
   "metadata": {
    "id": "ub-qn9GtNTh5"
   },
   "source": [
    "**프로젝트에 필요한 데이터 파일 읽기**\n",
    "\n",
    "```\n",
    "import csv\n",
    "\n",
    "f = open('파일이름.csv', encoding='utf8') # 또는  'eur-kr', 'cp949'\n",
    "data = csv.reader(f)\n",
    "next(data)\n",
    "data = list(data)\n",
    "```\n",
    "주의사항! 파이썬 파일과 데이터 파일을 같은 폴더에 위치시킨 후 코드 작성하기\n"
   ]
  },
  {
   "cell_type": "code",
   "execution_count": null,
   "metadata": {
    "id": "qM8Tpf_pNlMk"
   },
   "outputs": [],
   "source": [
    "# 인구데이터 파일 읽어 data에 저장하기\n",
    "\n"
   ]
  },
  {
   "cell_type": "code",
   "execution_count": null,
   "metadata": {
    "id": "nruSYN0jNlR4"
   },
   "outputs": [],
   "source": [
    "# 행정동코드 데이터 파일 읽어 code_data에 저장하기\n",
    "\n"
   ]
  },
  {
   "cell_type": "code",
   "execution_count": null,
   "metadata": {
    "id": "jcUObnTtNovl"
   },
   "outputs": [],
   "source": [
    "# 인구데이터 확인해보기\n",
    "print(data[0]) "
   ]
  },
  {
   "cell_type": "markdown",
   "metadata": {
    "id": "VPahQssoO-Iz"
   },
   "source": [
    "**데이터타입 미리 변환하기**\n",
    "\n",
    "인구수를 계량화하려면 연산이 필수!\n",
    "\n"
   ]
  },
  {
   "cell_type": "markdown",
   "metadata": {
    "id": "lT_YzPgrPu9C"
   },
   "source": [
    "인구데이터의 타입 변환하기\n",
    "\n",
    "\n",
    "```\n",
    "for row in data: \n",
    "    row[1] = int(row[1])       # 시간대구분\n",
    "    row[2] = int(row[1])       # 행정동코드\n",
    "    row[3] = float(row[1])     # 총생활인구수\n",
    "    row[4] = float(row[1])     # 남자0세부터9세생활인구수\n",
    "    ... \n",
    "    row[31] = float(row[31])   # 여자70세이상생활인구수\n",
    "\n",
    "```\n",
    "\n"
   ]
  },
  {
   "cell_type": "code",
   "execution_count": null,
   "metadata": {
    "id": "kLHSbQKuO6Yq"
   },
   "outputs": [],
   "source": [
    "# 반복문을 활용하여 효율적으로 인구데이터(data) 타입 바꾸기\n",
    "# 인덱스가 2이하인 경우 정수형으로 변환\n",
    "# 인덱스가 2초과인 경우 실수형으로 변환\n",
    "\n"
   ]
  },
  {
   "cell_type": "markdown",
   "metadata": {
    "id": "uUusiTHiP_2u"
   },
   "source": [
    "코드 데이터의 타입 변환하기"
   ]
  },
  {
   "cell_type": "code",
   "execution_count": null,
   "metadata": {
    "id": "eMgC5q8GQTPK"
   },
   "outputs": [],
   "source": [
    "# 프로젝트에서 사용할 예정인 행자부(code_data) 행정동코드만 숫자로 변경\n",
    "\n"
   ]
  },
  {
   "cell_type": "markdown",
   "metadata": {
    "id": "ryc8Gpy2Qbiu"
   },
   "source": [
    "**사용자에게 행정동명을 입력받고, 대응되는 행정동코드를 찾기**"
   ]
  },
  {
   "cell_type": "markdown",
   "metadata": {
    "id": "BSLbTec-Qomi"
   },
   "source": [
    "```\n",
    "1. 사용자에게서 행정동명을 입력받아 변수(dong_name)에 저장하기\n",
    "2. 행정동코드 데이터(code_data)를 돌며 반복하기\n",
    "  2-1. 행정동코드 데이터의 마지막 열인 행정동명(열 인덱스[-1])이 입력된 행정동명(dong_name)과 같다면\n",
    "    2-1-1. 해당하는 행정동코드를 변수(dong_code)에 저장하기\n",
    "```\n",
    "\n"
   ]
  },
  {
   "cell_type": "code",
   "execution_count": null,
   "metadata": {},
   "outputs": [],
   "source": [
    "# 행정동명(dong_name) 입력받아 행정동코드(dong_code) 찾기\n",
    "\n",
    "\n",
    "\n",
    "        \n",
    "print(dong_name, '-',dong_code, '을(를) 분석합니다!')"
   ]
  },
  {
   "cell_type": "markdown",
   "metadata": {
    "id": "PhuepFwZ_CM4"
   },
   "source": [
    "## 하위목표 1  :  핫플레이스가 있는 행정동의 시간대별 평균인구 그래프 그려 분석하기\n",
    "\n",
    "\n",
    "<img src='https://github.com/Ahnjihye/allinone_AI/blob/images/93_%ED%95%AB%ED%94%8C_%ED%95%98%EC%9C%84%EB%AA%A9%ED%91%9C1.png?raw=true' width=200>\n",
    "<img src='https://github.com/Ahnjihye/allinone_AI/blob/images/97_%EC%9D%B8%EA%B5%AC%EB%A6%AC%EC%8A%A4%ED%8A%B8.png?raw=true' width=600>\n",
    "\n",
    "<br/>\n",
    "<br/>\n",
    "\n",
    "<img src='https://github.com/Ahnjihye/allinone_AI/blob/images/98_%ED%95%98%EC%9C%84%EB%AA%A9%ED%91%9C1%EC%95%8C%EA%B3%A0%EB%A6%AC%EC%A6%98.png?raw=true' width=800>"
   ]
  },
  {
   "cell_type": "markdown",
   "metadata": {
    "id": "6qOyGvrzRMxV"
   },
   "source": [
    "### 1) 알고리즘 작성 \n",
    "\n",
    "```\n",
    "1. 시간대별 평균인구를 저장할 리스트(population)를 길이 24로 만들고 초깃값 0 저장하기\n",
    "2. 인구 데이터(data)의 첫 행부터 마지막 행까지 돌며 반복하기\n",
    "  2.1 사용자가 입력한 행정동의 행정동코드(dong_code)와 인구 데이터(data)의 행정동코드(row[2])가 같다면\n",
    "    2.1.1 해당 행의 시간대(row[1])와 총생활인구수(row[3])를 각각 변수(time, p)에 저장하기\n",
    "    2.1.2 과정 2.1.1에서 저장한 시간대(time)가 population의 인덱스이므로 population[time]에 총생활인구수(p) 더하기\n",
    "3. 반복이 끝나면 population 리스트의 모든 값을 31로 나눈 후 population에 다시 저장하기\n",
    "4. 완성된 population 리스트로 시간대별 평균인구 그래프 그리기\n",
    "```\n",
    "\n"
   ]
  },
  {
   "cell_type": "markdown",
   "metadata": {
    "id": "I6kwQD9a_1kx"
   },
   "source": [
    "### 2) 코드 작성하기\n"
   ]
  },
  {
   "cell_type": "code",
   "execution_count": null,
   "metadata": {
    "id": "VJrvFr8KMDss"
   },
   "outputs": [],
   "source": [
    "# 인구리스트 완성하기\n",
    "\n",
    "\n",
    "\n",
    "\n",
    "\n",
    "\n",
    "\n",
    "print(population)    # 현재 population은 총인구, 31로 나누어야 평균인구가 됨"
   ]
  },
  {
   "cell_type": "code",
   "execution_count": null,
   "metadata": {},
   "outputs": [],
   "source": [
    "# population의 모든 원소를 31로 나누어 일평균 인구 구하기\n",
    "\n",
    "\n"
   ]
  },
  {
   "cell_type": "code",
   "execution_count": null,
   "metadata": {},
   "outputs": [],
   "source": [
    "import matplotlib.pyplot as plt\n",
    "\n",
    "# 그래프 그리기\n",
    "\n",
    "\n"
   ]
  },
  {
   "cell_type": "markdown",
   "metadata": {
    "id": "JUAtr0b5LkKX"
   },
   "source": [
    "### 3) 하위목표1의 결과분석\n",
    "\n",
    "```\n",
    "본인이 궁금한 행정동을 검색해보고, 그 결과를 분석해보기\n",
    "- \n",
    "- \n",
    "- \n",
    "```\n",
    "\n",
    "\n"
   ]
  },
  {
   "cell_type": "markdown",
   "metadata": {},
   "source": [
    "## 하위 목표 2 : 핫플레이스가 있는 행정동과 익숙한 행정동의 시간대별 평균인구 그래프 그려서 비교 분석하기\n",
    "\n",
    "<img src='https://github.com/Ahnjihye/allinone_AI/blob/images/96_%ED%95%AB%ED%94%8C_%ED%95%98%EC%9C%84%EB%AA%A9%ED%91%9C4.png?raw=true' width=300>"
   ]
  },
  {
   "cell_type": "code",
   "execution_count": null,
   "metadata": {},
   "outputs": [],
   "source": [
    "# 직접 작성해보세요! 압구정동과 역삼2동의 그래프 비교하기\n",
    "\n",
    "\n",
    "\n",
    "\n",
    "\n",
    "\n",
    "\n",
    "\n",
    "\n"
   ]
  },
  {
   "cell_type": "markdown",
   "metadata": {},
   "source": [
    "\n",
    "### 1) 알고리즘 작성 \n",
    "\n",
    "```\n",
    "1. 사용자에게서 행정동명을 입력받아 행정동코드를 구한 후 이 값을 dong_code에 저장하기\n",
    "2. 비교할 행정동명을 입력받아 행정동코드를 구한 후 이 값을 dong_code2에 저장하기\n",
    "3. 핫플레이스의 행정동 인구를 저장할 리스트(population)와 비교할 행정동 인구를 저장할 리스트(population2)를 길이 24로 만들고 초깃값 0 저장하기\n",
    "4. 인구 데이터(data)의 첫 행부터 마지막 행까지 돌며 반복하기\n",
    "  4.1 사용자가 입력한 행정동의 행정동코드(dong_code)와 인구 데이터(data)의 행정동코드(row[2])가 같다면\n",
    "    4.1.1 해당 행의 시간대(row[1])와 총생활인구수(row[3])를 각각 변수(time, p)에 저장하기\n",
    "    4.1.2 인덱스가 time인 population 리스트의 요소(population[time])에 총생활인구수(p)를 더하기\n",
    "4.2 비교할 행정동의 행정동코드(dong_code2)와 인구 데이터(data)의 행정동코드(열 인덱스 [2])가 같다면\n",
    "    4.2.1 해당 행의 시간대(열 인덱스[1])와 총생활인구수(열 인덱스[3])를 각각 변수(time, p)에 저장하기\n",
    "    4.2.2 인덱스가 time인 population2 리스트의 요소(population2[time])에 총생활인구수(p)를 더하기\n",
    "5. 반복이 끝나면 두 리스트(population, population2)의 모든 값을 31로 나누어 다시 저장하기\n",
    "6. 완성된 리스트로 두 지역의 시간대별 평균인구 그래프 그리기\n",
    "```\n",
    "### 2) 코드 작성하기"
   ]
  },
  {
   "cell_type": "code",
   "execution_count": null,
   "metadata": {},
   "outputs": [],
   "source": [
    "# 핫플레이스가 있는 행정동\n",
    "\n",
    "\n",
    "\n",
    "# 비교할 행정동\n",
    "\n"
   ]
  },
  {
   "cell_type": "code",
   "execution_count": null,
   "metadata": {},
   "outputs": [],
   "source": [
    "\n",
    "\n"
   ]
  },
  {
   "cell_type": "code",
   "execution_count": null,
   "metadata": {},
   "outputs": [],
   "source": [
    "# 그래프 그리기\n",
    "\n"
   ]
  },
  {
   "cell_type": "markdown",
   "metadata": {},
   "source": [
    "## 하위목표2의 결과분석\n",
    "\n",
    "```\n",
    "직접 작성해보세요\n",
    "- \n",
    "-\n",
    "-\n",
    "```\n",
    "\n",
    "\n"
   ]
  },
  {
   "cell_type": "markdown",
   "metadata": {},
   "source": [
    "## 하위목표 3  :  핫플레이스가 있는 행정동의 남/녀 시간대별 평균인구 그래프 그리고 분석하기\n",
    "\n",
    "\n",
    "<img src='https://github.com/Ahnjihye/allinone_AI/blob/images/95_%ED%95%AB%ED%94%8C_%ED%95%98%EC%9C%84%EB%AA%A9%ED%91%9C3.png?raw=true' width=300>\n",
    "\n",
    "<br/>\n",
    "<br/>\n",
    "\n",
    "<img src='https://github.com/Ahnjihye/allinone_AI/blob/images/123_%E1%84%92%E1%85%A1%E1%86%BA%E1%84%91%E1%85%B3%E1%86%AF%E1%84%85%E1%85%A6%E1%84%8B%E1%85%B5%E1%84%89%E1%85%B3%20%E1%84%91%E1%85%B3%E1%84%85%E1%85%A9%E1%84%8C%E1%85%A6%E1%86%A8%E1%84%90%E1%85%B33-1.png?raw=true' width=750>\n",
    "\n",
    "<br/>\n",
    "<br/>\n",
    "\n",
    "<img src='https://github.com/Ahnjihye/allinone_AI/blob/images/124_%E1%84%92%E1%85%A1%E1%86%BA%E1%84%91%E1%85%B3%E1%86%AF%E1%84%85%E1%85%A6%E1%84%8B%E1%85%B5%E1%84%89%E1%85%B3%20%E1%84%91%E1%85%B3%E1%84%85%E1%85%A9%E1%84%8C%E1%85%A6%E1%86%A8%E1%84%90%E1%85%B33-2.png?raw=true' width=750>\n",
    "\n",
    "<img src='https://github.com/Ahnjihye/allinone_AI/blob/images/125_%E1%84%92%E1%85%A1%E1%86%BA%E1%84%91%E1%85%B3%E1%86%AF%E1%84%85%E1%85%A6%E1%84%8B%E1%85%B5%E1%84%89%E1%85%B3%20%E1%84%91%E1%85%B3%E1%84%85%E1%85%A9%E1%84%8C%E1%85%A6%E1%86%A8%E1%84%90%E1%85%B33-3.png?raw=true' width=750>\n",
    "\n",
    "### 1) 알고리즘 작성 \n",
    "\n",
    "\n",
    "```\n",
    "1. 남성 시간대별 생활인구를 저장할 리스트(male)와 여성 시간대별 생활인구를 저장할 리스트(female)를 길이 24로 만들고 초깃값 0 저장하기\n",
    "2. 인구 데이터(data)의 첫 행부터 마지막 행까지 돌며 반복하기\n",
    "  2.1 사용자가 입력한 행정동의 행정동코드(dong_code)와 인구 데이터(data)의 행정동코드(row[2])가 같다면\n",
    "    2.1.1 해당 행의 시간대(열 인덱스 [1])를 변수(time)에 저장하기\n",
    "    2.1.2 열 인덱스 [4]부터 [17]까지의 합을  male[time]에 더하기\n",
    "    2.1.3 열 인덱스 [18]부터 [31]까지의 합을 female[time]에 더하기\n",
    "3. 반복이 끝나면 남성 생활인구 리스트(male)와 여성 생활인구 리스트(female)를 각각 31로 나누어 시간대별 평균인구 구하기\n",
    "4. 완성된 male과 female 리스트로 시간대별 평균인구 그래프 그리기\n",
    "```\n",
    "### 2) 코드 작성하기\n"
   ]
  },
  {
   "cell_type": "code",
   "execution_count": null,
   "metadata": {},
   "outputs": [],
   "source": [
    "\n"
   ]
  },
  {
   "cell_type": "code",
   "execution_count": null,
   "metadata": {},
   "outputs": [],
   "source": [
    "\n",
    "\n"
   ]
  },
  {
   "cell_type": "markdown",
   "metadata": {},
   "source": [
    "## 하위목표3의 결과분석\n",
    "\n",
    "```\n",
    "- 압구정동에는 여성이 남성보다 항상 더 많다.\n",
    "- 남성 인구의 증감폭보다 여성 인구의 증감폭이 더 크다.\n",
    "- 만약 압구정동의 여성이 선호하는 핫플레이스라면 점심시간에 붐빌수도 있다.\n",
    "```\n"
   ]
  },
  {
   "cell_type": "markdown",
   "metadata": {},
   "source": [
    "## +보너스  :  핫플레이스가 있는 행정동의 주중/주말 시간대별 평균인구 그래프 그리고 분석하기\n",
    "\n",
    "\n",
    "<img src='https://github.com/Ahnjihye/allinone_AI/blob/images/94_%ED%95%AB%ED%94%8C_%ED%95%98%EC%9C%84%EB%AA%A9%ED%91%9C2.png?raw=true' width=300>\n",
    "\n",
    "\n",
    "**요일을 알려주는 datetime 라이브러리**\n",
    "<br/>\n",
    "0 - 월, 1 - 화, 2 - 수, 3 - 목, 4 - 금, 5 - 토, 6 - 일\n"
   ]
  },
  {
   "cell_type": "code",
   "execution_count": null,
   "metadata": {},
   "outputs": [],
   "source": [
    "\n"
   ]
  },
  {
   "cell_type": "markdown",
   "metadata": {},
   "source": [
    "\n",
    "### 1) 알고리즘 작성 \n",
    "\n",
    "```\n",
    "1. 주중 시간대별 생활인구를 저장할 리스트(weekday)와 주말 시간대별 생활인구를 저장할 리스트(weekend)를 길이 24로 만들고 초깃값 0 저장하기\n",
    "2. 인구 데이터(data)의 첫 행부터 마지막 행까지 돌며 반복하기\n",
    "  2.1 사용자가 입력한 행정동의 행정동코드(dong_code)와 인구 데이터(data)의 행정동코드(row[2])가 같다면\n",
    "    2.1.1 해당 행의 시간대(time)와 총생활인구수(p), 기준일ID의 연도(year), 월(mon), 일(day)을 각각 변수에 저장하기\n",
    "    2.1.2 과정 2.1.1에서 저장한 연도(year), 월(mon), 일(day)을 datetime.date().weekday()에 넣어 주중/주말 구분하기\n",
    "    2.1.3 주중이면 주중 리스트(weekday[time])에 총생활인구수(p), 주말이면 주말 리스트(weekend[time])에 총생활인구수(p) 더하기\n",
    "# 주중인구와 주말인구의 평균을 구하기 위해 2019년 12월의 주중일수와 주말일수를 알아야 함 (3~4)\n",
    "3. 2019년 12월의 주중 일수(weekday_cnt)와 주말 일수(weekend_cnt)를 저장할 변수를 만들고 초깃값 0 저장하기\n",
    "4. 2019년 12월의 일수만큼 반복하기\n",
    "  4.1 datetime.date(2019, 12, i)가 주중이면 주중 일수(weekday_cnt)에 1, 주말이면 주말 일수(weekend_cnt)에 1 더하기\n",
    "5. 주중 리스트(weekday)의 각 요소를 주중 일수(weekday_cnt)로, 주말 리스트(weekend)의 각 요소를 주말 일수(weekend_cnt)로 나누어 주중/주말 평균인구 구하기\n",
    "6. 완성된 weekday와 weekend 리스트로 주중/주말 시간대별 평균인구 그래프 그리기\n",
    "```\n",
    "\n",
    "### 2) 코드 작성하기"
   ]
  },
  {
   "cell_type": "code",
   "execution_count": null,
   "metadata": {},
   "outputs": [],
   "source": [
    "\n"
   ]
  },
  {
   "cell_type": "code",
   "execution_count": null,
   "metadata": {},
   "outputs": [],
   "source": [
    "# 2019년 12월의 주중/주말 일수 구하기\n",
    "\n"
   ]
  },
  {
   "cell_type": "code",
   "execution_count": null,
   "metadata": {},
   "outputs": [],
   "source": [
    "\n"
   ]
  },
  {
   "cell_type": "code",
   "execution_count": null,
   "metadata": {},
   "outputs": [],
   "source": []
  }
 ],
 "metadata": {
  "kernelspec": {
   "display_name": "Python 3",
   "language": "python",
   "name": "python3"
  },
  "language_info": {
   "codemirror_mode": {
    "name": "ipython",
    "version": 3
   },
   "file_extension": ".py",
   "mimetype": "text/x-python",
   "name": "python",
   "nbconvert_exporter": "python",
   "pygments_lexer": "ipython3",
   "version": "3.8.5"
  }
 },
 "nbformat": 4,
 "nbformat_minor": 2
}
