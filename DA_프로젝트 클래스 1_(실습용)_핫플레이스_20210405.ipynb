{
 "cells": [
  {
   "cell_type": "markdown",
   "metadata": {
    "id": "AJJmdk2i7Fb-"
   },
   "source": [
    "<img src='https://github.com/Ahnjihye/allinone_AI/blob/images/87_%EB%A1%9C%EB%93%9C%EB%A7%B5.png?raw=true' width=700>"
   ]
  },
  {
   "cell_type": "markdown",
   "metadata": {
    "id": "FzBW2NLn7J5t"
   },
   "source": [
    "# 1. 프로젝트 목표 수립\n"
   ]
  },
  {
   "cell_type": "markdown",
   "metadata": {
    "id": "qNIT40Qr80c1"
   },
   "source": [
    "**핫플레이스, 언제 가야 가장 덜 붐빌까?**\n",
    "\n",
    "그런데, 데이터가 있나?"
   ]
  },
  {
   "cell_type": "markdown",
   "metadata": {
    "id": "uKteuac_-whw"
   },
   "source": [
    "### 1) 데이터 선정\n",
    "\n",
    "데이터 : 구글에서 데이터를 찾아보자!\n",
    "\n",
    "구글에 '서울 시간대별 인구 데이터' 검색\n",
    "\n",
    "> 인구 데이터 : 서울 생활인구(내국인) 201912\n",
    "<br/>\n",
    ">  행정동코드 데이터 : 행정구역 코드 정보"
   ]
  },
  {
   "cell_type": "markdown",
   "metadata": {
    "id": "9Tuar_6tUQK5"
   },
   "source": [
    "<img src='https://github.com/Ahnjihye/allinone_AI/blob/images/99_%EB%8D%B0%EC%9D%B4%ED%84%B0%ED%97%A4%EB%8D%94.png?raw=true' width=800>"
   ]
  },
  {
   "cell_type": "markdown",
   "metadata": {
    "id": "cIbzo9JiFLdb"
   },
   "source": [
    "### 2) 목표 수립하기"
   ]
  },
  {
   "cell_type": "markdown",
   "metadata": {
    "id": "UDpGnB7q84Pa"
   },
   "source": [
    "하위 목표 1 : 핫플레이스가 있는 행정동의 시간대별 평균인구 그래프 그려 분석하기\n",
    "\n",
    "<img src='https://github.com/Ahnjihye/allinone_AI/blob/images/93_%ED%95%AB%ED%94%8C_%ED%95%98%EC%9C%84%EB%AA%A9%ED%91%9C1.png?raw=true' width=300>"
   ]
  },
  {
   "cell_type": "markdown",
   "metadata": {
    "id": "oGaVvTH59CNE"
   },
   "source": [
    "하위 목표 2 : 핫플레이스가 있는 행정동의 주중/주말 시간대별 평균인구 그래프 그리고 분석하기\n",
    "\n",
    "<img src='https://github.com/Ahnjihye/allinone_AI/blob/images/94_%ED%95%AB%ED%94%8C_%ED%95%98%EC%9C%84%EB%AA%A9%ED%91%9C2.png?raw=true' width=300>"
   ]
  },
  {
   "cell_type": "markdown",
   "metadata": {
    "id": "HJq4l9v99CPY"
   },
   "source": [
    "하위 목표 3 : 핫플레이스가 있는 행정동의 남/녀 시간대별 평균인구 그래프를 그려 분석하기\n",
    "\n",
    "<img src='https://github.com/Ahnjihye/allinone_AI/blob/images/95_%ED%95%AB%ED%94%8C_%ED%95%98%EC%9C%84%EB%AA%A9%ED%91%9C3.png?raw=true' width=300>"
   ]
  },
  {
   "cell_type": "markdown",
   "metadata": {
    "id": "wPQbcCw0LdQg"
   },
   "source": [
    "하위 목표 4 : 핫플레이스가 있는 행정동과 익숙한 행정동의 시간대별 평균인구 그래프 그려서 비교 분석하기\n",
    "\n",
    "<img src='https://github.com/Ahnjihye/allinone_AI/blob/images/96_%ED%95%AB%ED%94%8C_%ED%95%98%EC%9C%84%EB%AA%A9%ED%91%9C4.png?raw=true' width=300>"
   ]
  },
  {
   "cell_type": "markdown",
   "metadata": {
    "id": "8tv7s4JY-5ff"
   },
   "source": [
    "# 2. 프로그램 구현 \n"
   ]
  },
  {
   "cell_type": "markdown",
   "metadata": {
    "id": "ub-qn9GtNTh5"
   },
   "source": [
    "**프로젝트에 필요한 데이터 파일 읽기**\n",
    "\n",
    "```\n",
    "import csv\n",
    "\n",
    "f = open('파일이름.csv', encoding='utf8') # 또는  'eur-kr', 'cp949'\n",
    "data = csv.reader(f)\n",
    "next(data)\n",
    "data = list(data)\n",
    "```\n",
    "주의사항! 파이썬 파일과 데이터 파일을 같은 폴더에 위치시킨 후 코드 작성하기\n"
   ]
  },
  {
   "cell_type": "code",
   "execution_count": null,
   "metadata": {
    "id": "qM8Tpf_pNlMk"
   },
   "outputs": [],
   "source": [
    "# 인구데이터 파일 읽기\n"
   ]
  },
  {
   "cell_type": "code",
   "execution_count": null,
   "metadata": {
    "id": "nruSYN0jNlR4"
   },
   "outputs": [],
   "source": [
    "# 행정동코드 데이터 파일 읽기\n"
   ]
  },
  {
   "cell_type": "code",
   "execution_count": null,
   "metadata": {
    "id": "jcUObnTtNovl"
   },
   "outputs": [],
   "source": [
    "# 인구데이터 확인해보기\n"
   ]
  },
  {
   "cell_type": "markdown",
   "metadata": {
    "id": "VPahQssoO-Iz"
   },
   "source": [
    "**데이터타입 미리 변환하기**\n",
    "\n",
    "인구수를 계량화하려면 연산이 필수!\n",
    "\n"
   ]
  },
  {
   "cell_type": "markdown",
   "metadata": {
    "id": "lT_YzPgrPu9C"
   },
   "source": [
    "인구데이터의 타입 변환하기\n",
    "\n",
    "\n",
    "```\n",
    "for row in data: \n",
    "    row[1] = int(row[1])       # 시간대구분\n",
    "    row[2] = int(row[1])       # 행정동코드\n",
    "    row[3] = float(row[1])     # 총생활인구수\n",
    "    row[4] = float(row[1])     # 남자0세부터9세생활인구수\n",
    "    ... \n",
    "    row[31] = float(row[31])   # 여자70세이상생활인구수\n",
    "\n",
    "```\n",
    "\n"
   ]
  },
  {
   "cell_type": "code",
   "execution_count": null,
   "metadata": {
    "id": "kLHSbQKuO6Yq"
   },
   "outputs": [],
   "source": [
    "\n"
   ]
  },
  {
   "cell_type": "markdown",
   "metadata": {
    "id": "uUusiTHiP_2u"
   },
   "source": [
    "코드 데이터의 타입 변환하기"
   ]
  },
  {
   "cell_type": "code",
   "execution_count": null,
   "metadata": {
    "id": "eMgC5q8GQTPK"
   },
   "outputs": [],
   "source": [
    "# 프로젝트에서 사용할 예정인 행자부 행정동코드만 숫자로 변경\n",
    "\n"
   ]
  },
  {
   "cell_type": "markdown",
   "metadata": {
    "id": "ryc8Gpy2Qbiu"
   },
   "source": [
    "**사용자에게 행정동명을 입력받고, 대응되는 행정동코드를 찾기**"
   ]
  },
  {
   "cell_type": "markdown",
   "metadata": {
    "id": "BSLbTec-Qomi"
   },
   "source": [
    "```\n",
    "1. 사용자에게서 행정동명을 입력받아 변수(dong_name)에 저장하기\n",
    "2. 행정동코드 데이터(code_data)를 돌며 반복하기\n",
    "  2-1. 행정동코드 데이터의 마지막 열인 행정동명(열 인덱스[-1])이 입력된 행정동명(dong_name)과 같다면\n",
    "    2-1-1. 해당하는 행정동코드를 변수(dong_code)에 저장하기\n",
    "```\n",
    "\n"
   ]
  },
  {
   "cell_type": "code",
   "execution_count": null,
   "metadata": {},
   "outputs": [],
   "source": []
  },
  {
   "cell_type": "markdown",
   "metadata": {
    "id": "PhuepFwZ_CM4"
   },
   "source": [
    "## 하위목표 1  :  핫플레이스가 있는 행정동의 시간대별 평균인구 그래프 그려 분석하기\n",
    "\n",
    "\n",
    "<img src='https://github.com/Ahnjihye/allinone_AI/blob/images/93_%ED%95%AB%ED%94%8C_%ED%95%98%EC%9C%84%EB%AA%A9%ED%91%9C1.png?raw=true' width=200>\n",
    "<img src='https://github.com/Ahnjihye/allinone_AI/blob/images/97_%EC%9D%B8%EA%B5%AC%EB%A6%AC%EC%8A%A4%ED%8A%B8.png?raw=true' width=600>\n",
    "\n",
    "<br/>\n",
    "<br/>\n",
    "\n",
    "<img src='https://github.com/Ahnjihye/allinone_AI/blob/images/98_%ED%95%98%EC%9C%84%EB%AA%A9%ED%91%9C1%EC%95%8C%EA%B3%A0%EB%A6%AC%EC%A6%98.png?raw=true' width=800>"
   ]
  },
  {
   "cell_type": "markdown",
   "metadata": {
    "id": "6qOyGvrzRMxV"
   },
   "source": [
    "### 1) 알고리즘 작성 \n",
    "\n",
    "```\n",
    "1. 시간대별 평균인구를 저장할 리스트(population)를 길이 24로 만들고 초깃값 0 저장하기\n",
    "2. 인구 데이터(data)의 첫 행부터 마지막 행까지 돌며 반복하기\n",
    "  2.1 사용자가 입력한 행정동의 행정동코드(dong_code)와 인구 데이터(data)의 행정동코드(row[2])가 같다면\n",
    "    2.1.1 해당 행의 시간대(row[1])와 총생활인구수(row[3])를 각각 변수(time, p)에 저장하기\n",
    "    2.1.2 과정 2.1.1에서 저장한 시간대(time)가 population의 인덱스이므로 population[time]에 총생활인구수(p) 더하기\n",
    "3. 반복이 끝나면 population 리스트의 모든 값을 31로 나눈 후 population에 다시 저장하기\n",
    "4. 완성된 population 리스트로 시간대별 평균인구 그래프 그리기\n",
    "```\n",
    "\n"
   ]
  },
  {
   "cell_type": "markdown",
   "metadata": {
    "id": "I6kwQD9a_1kx"
   },
   "source": [
    "### 2) 코드 작성하기\n"
   ]
  },
  {
   "cell_type": "code",
   "execution_count": null,
   "metadata": {
    "id": "VJrvFr8KMDss"
   },
   "outputs": [],
   "source": []
  },
  {
   "cell_type": "code",
   "execution_count": null,
   "metadata": {},
   "outputs": [],
   "source": [
    "# population의 모든 원소를 31로 나누어 평균 구하기\n"
   ]
  },
  {
   "cell_type": "code",
   "execution_count": null,
   "metadata": {},
   "outputs": [],
   "source": []
  },
  {
   "cell_type": "markdown",
   "metadata": {
    "id": "JUAtr0b5LkKX"
   },
   "source": [
    "### 3) 하위목표1의 결과분석\n",
    "\n",
    "```\n",
    "- 압구정동은 새벽 1~6시에 인구가 가장 적음 \n",
    "  (새벽에는 인구이동이 매우 적으므로 이 시간에 인구는 대부분 압구정에 거주하는 사람으로 추측할 수 있다.)\n",
    "- 12~18시가 인구가 가장 많음\n",
    "- 압구정동에 있는 핫플레이스를 가려면 10~11시쯤 브런치 약속이나 19시 이후 저녁약속을 잡으면 될 것 같다.\n",
    "```\n",
    "\n",
    "\n"
   ]
  },
  {
   "cell_type": "code",
   "execution_count": null,
   "metadata": {},
   "outputs": [],
   "source": []
  }
 ],
 "metadata": {
  "kernelspec": {
   "display_name": "Python 3",
   "language": "python",
   "name": "python3"
  },
  "language_info": {
   "codemirror_mode": {
    "name": "ipython",
    "version": 3
   },
   "file_extension": ".py",
   "mimetype": "text/x-python",
   "name": "python",
   "nbconvert_exporter": "python",
   "pygments_lexer": "ipython3",
   "version": "3.7.1"
  }
 },
 "nbformat": 4,
 "nbformat_minor": 2
}
